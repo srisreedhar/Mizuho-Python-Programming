{
 "cells": [
  {
   "cell_type": "markdown",
   "metadata": {},
   "source": [
    "### BigDataSchool\n",
    "## SriSreedhar"
   ]
  },
  {
   "cell_type": "code",
   "execution_count": 3,
   "metadata": {},
   "outputs": [],
   "source": [
    "weather={\"city\":{\"id\":1880252,\"name\":\"Singapore\",\"coord\":{\"lon\":103.8501,\"lat\":1.2897},\"country\":\"SG\",\"population\":3547809,\"timezone\":28800},\"cod\":\"200\",\"message\":0.2190609,\"cnt\":10,\"list\":[{\"dt\":1587445200,\"sunrise\":1587423517,\"sunset\":1587467255,\"temp\":{\"day\":31.3,\"min\":27.19,\"max\":33.53,\"night\":27.19,\"eve\":28.41,\"morn\":29.65},\"feels_like\":{\"day\":36.26,\"night\":31.32,\"eve\":32.5,\"morn\":35.76},\"pressure\":1008,\"humidity\":66,\"weather\":[{\"id\":501,\"main\":\"Rain\",\"description\":\"moderate rain\",\"icon\":\"10d\"}],\"speed\":1.37,\"deg\":134,\"clouds\":35,\"rain\":6.01},{\"dt\":1587531600,\"sunrise\":1587509903,\"sunset\":1587553645,\"temp\":{\"day\":32.93,\"min\":27.15,\"max\":32.93,\"night\":27.15,\"eve\":28.48,\"morn\":27.43},\"feels_like\":{\"day\":36.4,\"night\":31.29,\"eve\":32.69,\"morn\":31.69},\"pressure\":1008,\"humidity\":54,\"weather\":[{\"id\":501,\"main\":\"Rain\",\"description\":\"moderate rain\",\"icon\":\"10d\"}],\"speed\":2.04,\"deg\":118,\"clouds\":94,\"rain\":4.28},{\"dt\":1587618000,\"sunrise\":1587596290,\"sunset\":1587640037,\"temp\":{\"day\":31.11,\"min\":26.9,\"max\":31.11,\"night\":26.9,\"eve\":27.06,\"morn\":27.11},\"feels_like\":{\"day\":36.58,\"night\":31.42,\"eve\":31.43,\"morn\":31.47},\"pressure\":1009,\"humidity\":66,\"weather\":[{\"id\":502,\"main\":\"Rain\",\"description\":\"heavy intensity rain\",\"icon\":\"10d\"}],\"speed\":0.49,\"deg\":345,\"clouds\":95,\"rain\":12.15},{\"dt\":1587704400,\"sunrise\":1587682678,\"sunset\":1587726429,\"temp\":{\"day\":30.63,\"min\":26.25,\"max\":30.63,\"night\":26.76,\"eve\":27.35,\"morn\":26.25},\"feels_like\":{\"day\":34.15,\"night\":30.69,\"eve\":31.69,\"morn\":29.77},\"pressure\":1009,\"humidity\":64,\"weather\":[{\"id\":502,\"main\":\"Rain\",\"description\":\"heavy intensity rain\",\"icon\":\"10d\"}],\"speed\":2.48,\"deg\":273,\"clouds\":100,\"rain\":15.21},{\"dt\":1587790800,\"sunrise\":1587769066,\"sunset\":1587812821,\"temp\":{\"day\":29.26,\"min\":26.2,\"max\":29.48,\"night\":26.2,\"eve\":26.9,\"morn\":26.96},\"feels_like\":{\"day\":34.25,\"night\":30.54,\"eve\":31.86,\"morn\":31.03},\"pressure\":1009,\"humidity\":72,\"weather\":[{\"id\":502,\"main\":\"Rain\",\"description\":\"heavy intensity rain\",\"icon\":\"10d\"}],\"speed\":0.92,\"deg\":4,\"clouds\":93,\"rain\":22.94},{\"dt\":1587877200,\"sunrise\":1587855454,\"sunset\":1587899214,\"temp\":{\"day\":30.64,\"min\":26.18,\"max\":31.38,\"night\":26.87,\"eve\":27.81,\"morn\":26.18},\"feels_like\":{\"day\":34.95,\"night\":30.79,\"eve\":31.96,\"morn\":30.95},\"pressure\":1009,\"humidity\":63,\"weather\":[{\"id\":500,\"main\":\"Rain\",\"description\":\"light rain\",\"icon\":\"10d\"}],\"speed\":1.16,\"deg\":303,\"clouds\":92,\"rain\":1.93},{\"dt\":1587963600,\"sunrise\":1587941843,\"sunset\":1587985607,\"temp\":{\"day\":32.36,\"min\":26.56,\"max\":32.36,\"night\":26.73,\"eve\":27.65,\"morn\":26.56},\"feels_like\":{\"day\":36.38,\"night\":30.54,\"eve\":31.85,\"morn\":30.35},\"pressure\":1009,\"humidity\":56,\"weather\":[{\"id\":501,\"main\":\"Rain\",\"description\":\"moderate rain\",\"icon\":\"10d\"}],\"speed\":1.31,\"deg\":199,\"clouds\":94,\"rain\":6.04},{\"dt\":1588050000,\"sunrise\":1588028233,\"sunset\":1588072001,\"temp\":{\"day\":29.32,\"min\":26.05,\"max\":29.32,\"night\":26.05,\"eve\":26.65,\"morn\":26.63},\"feels_like\":{\"day\":33.91,\"night\":30.16,\"eve\":30.73,\"morn\":30.19},\"pressure\":1010,\"humidity\":72,\"weather\":[{\"id\":502,\"main\":\"Rain\",\"description\":\"heavy intensity rain\",\"icon\":\"10d\"}],\"speed\":1.53,\"deg\":224,\"clouds\":95,\"rain\":16.3},{\"dt\":1588136400,\"sunrise\":1588114623,\"sunset\":1588158395,\"temp\":{\"day\":26.4,\"min\":26.11,\"max\":28.79,\"night\":26.25,\"eve\":26.38,\"morn\":26.11},\"feels_like\":{\"day\":30.96,\"night\":30.15,\"eve\":30.66,\"morn\":30.37},\"pressure\":1010,\"humidity\":83,\"weather\":[{\"id\":501,\"main\":\"Rain\",\"description\":\"moderate rain\",\"icon\":\"10d\"}],\"speed\":1.2,\"deg\":173,\"clouds\":97,\"rain\":11.4},{\"dt\":1588222800,\"sunrise\":1588201014,\"sunset\":1588244790,\"temp\":{\"day\":29.68,\"min\":26.19,\"max\":29.68,\"night\":26.52,\"eve\":27.5,\"morn\":26.19},\"feels_like\":{\"day\":33.91,\"night\":30.84,\"eve\":32.15,\"morn\":30.09},\"pressure\":1010,\"humidity\":69,\"weather\":[{\"id\":501,\"main\":\"Rain\",\"description\":\"moderate rain\",\"icon\":\"10d\"}],\"speed\":1.75,\"deg\":238,\"clouds\":96,\"rain\":7.25}]}"
   ]
  },
  {
   "cell_type": "code",
   "execution_count": 4,
   "metadata": {},
   "outputs": [
    {
     "data": {
      "text/plain": [
       "{'city': {'id': 1880252,\n",
       "  'name': 'Singapore',\n",
       "  'coord': {'lon': 103.8501, 'lat': 1.2897},\n",
       "  'country': 'SG',\n",
       "  'population': 3547809,\n",
       "  'timezone': 28800},\n",
       " 'cod': '200',\n",
       " 'message': 0.2190609,\n",
       " 'cnt': 10,\n",
       " 'list': [{'dt': 1587445200,\n",
       "   'sunrise': 1587423517,\n",
       "   'sunset': 1587467255,\n",
       "   'temp': {'day': 31.3,\n",
       "    'min': 27.19,\n",
       "    'max': 33.53,\n",
       "    'night': 27.19,\n",
       "    'eve': 28.41,\n",
       "    'morn': 29.65},\n",
       "   'feels_like': {'day': 36.26, 'night': 31.32, 'eve': 32.5, 'morn': 35.76},\n",
       "   'pressure': 1008,\n",
       "   'humidity': 66,\n",
       "   'weather': [{'id': 501,\n",
       "     'main': 'Rain',\n",
       "     'description': 'moderate rain',\n",
       "     'icon': '10d'}],\n",
       "   'speed': 1.37,\n",
       "   'deg': 134,\n",
       "   'clouds': 35,\n",
       "   'rain': 6.01},\n",
       "  {'dt': 1587531600,\n",
       "   'sunrise': 1587509903,\n",
       "   'sunset': 1587553645,\n",
       "   'temp': {'day': 32.93,\n",
       "    'min': 27.15,\n",
       "    'max': 32.93,\n",
       "    'night': 27.15,\n",
       "    'eve': 28.48,\n",
       "    'morn': 27.43},\n",
       "   'feels_like': {'day': 36.4, 'night': 31.29, 'eve': 32.69, 'morn': 31.69},\n",
       "   'pressure': 1008,\n",
       "   'humidity': 54,\n",
       "   'weather': [{'id': 501,\n",
       "     'main': 'Rain',\n",
       "     'description': 'moderate rain',\n",
       "     'icon': '10d'}],\n",
       "   'speed': 2.04,\n",
       "   'deg': 118,\n",
       "   'clouds': 94,\n",
       "   'rain': 4.28},\n",
       "  {'dt': 1587618000,\n",
       "   'sunrise': 1587596290,\n",
       "   'sunset': 1587640037,\n",
       "   'temp': {'day': 31.11,\n",
       "    'min': 26.9,\n",
       "    'max': 31.11,\n",
       "    'night': 26.9,\n",
       "    'eve': 27.06,\n",
       "    'morn': 27.11},\n",
       "   'feels_like': {'day': 36.58, 'night': 31.42, 'eve': 31.43, 'morn': 31.47},\n",
       "   'pressure': 1009,\n",
       "   'humidity': 66,\n",
       "   'weather': [{'id': 502,\n",
       "     'main': 'Rain',\n",
       "     'description': 'heavy intensity rain',\n",
       "     'icon': '10d'}],\n",
       "   'speed': 0.49,\n",
       "   'deg': 345,\n",
       "   'clouds': 95,\n",
       "   'rain': 12.15},\n",
       "  {'dt': 1587704400,\n",
       "   'sunrise': 1587682678,\n",
       "   'sunset': 1587726429,\n",
       "   'temp': {'day': 30.63,\n",
       "    'min': 26.25,\n",
       "    'max': 30.63,\n",
       "    'night': 26.76,\n",
       "    'eve': 27.35,\n",
       "    'morn': 26.25},\n",
       "   'feels_like': {'day': 34.15, 'night': 30.69, 'eve': 31.69, 'morn': 29.77},\n",
       "   'pressure': 1009,\n",
       "   'humidity': 64,\n",
       "   'weather': [{'id': 502,\n",
       "     'main': 'Rain',\n",
       "     'description': 'heavy intensity rain',\n",
       "     'icon': '10d'}],\n",
       "   'speed': 2.48,\n",
       "   'deg': 273,\n",
       "   'clouds': 100,\n",
       "   'rain': 15.21},\n",
       "  {'dt': 1587790800,\n",
       "   'sunrise': 1587769066,\n",
       "   'sunset': 1587812821,\n",
       "   'temp': {'day': 29.26,\n",
       "    'min': 26.2,\n",
       "    'max': 29.48,\n",
       "    'night': 26.2,\n",
       "    'eve': 26.9,\n",
       "    'morn': 26.96},\n",
       "   'feels_like': {'day': 34.25, 'night': 30.54, 'eve': 31.86, 'morn': 31.03},\n",
       "   'pressure': 1009,\n",
       "   'humidity': 72,\n",
       "   'weather': [{'id': 502,\n",
       "     'main': 'Rain',\n",
       "     'description': 'heavy intensity rain',\n",
       "     'icon': '10d'}],\n",
       "   'speed': 0.92,\n",
       "   'deg': 4,\n",
       "   'clouds': 93,\n",
       "   'rain': 22.94},\n",
       "  {'dt': 1587877200,\n",
       "   'sunrise': 1587855454,\n",
       "   'sunset': 1587899214,\n",
       "   'temp': {'day': 30.64,\n",
       "    'min': 26.18,\n",
       "    'max': 31.38,\n",
       "    'night': 26.87,\n",
       "    'eve': 27.81,\n",
       "    'morn': 26.18},\n",
       "   'feels_like': {'day': 34.95, 'night': 30.79, 'eve': 31.96, 'morn': 30.95},\n",
       "   'pressure': 1009,\n",
       "   'humidity': 63,\n",
       "   'weather': [{'id': 500,\n",
       "     'main': 'Rain',\n",
       "     'description': 'light rain',\n",
       "     'icon': '10d'}],\n",
       "   'speed': 1.16,\n",
       "   'deg': 303,\n",
       "   'clouds': 92,\n",
       "   'rain': 1.93},\n",
       "  {'dt': 1587963600,\n",
       "   'sunrise': 1587941843,\n",
       "   'sunset': 1587985607,\n",
       "   'temp': {'day': 32.36,\n",
       "    'min': 26.56,\n",
       "    'max': 32.36,\n",
       "    'night': 26.73,\n",
       "    'eve': 27.65,\n",
       "    'morn': 26.56},\n",
       "   'feels_like': {'day': 36.38, 'night': 30.54, 'eve': 31.85, 'morn': 30.35},\n",
       "   'pressure': 1009,\n",
       "   'humidity': 56,\n",
       "   'weather': [{'id': 501,\n",
       "     'main': 'Rain',\n",
       "     'description': 'moderate rain',\n",
       "     'icon': '10d'}],\n",
       "   'speed': 1.31,\n",
       "   'deg': 199,\n",
       "   'clouds': 94,\n",
       "   'rain': 6.04},\n",
       "  {'dt': 1588050000,\n",
       "   'sunrise': 1588028233,\n",
       "   'sunset': 1588072001,\n",
       "   'temp': {'day': 29.32,\n",
       "    'min': 26.05,\n",
       "    'max': 29.32,\n",
       "    'night': 26.05,\n",
       "    'eve': 26.65,\n",
       "    'morn': 26.63},\n",
       "   'feels_like': {'day': 33.91, 'night': 30.16, 'eve': 30.73, 'morn': 30.19},\n",
       "   'pressure': 1010,\n",
       "   'humidity': 72,\n",
       "   'weather': [{'id': 502,\n",
       "     'main': 'Rain',\n",
       "     'description': 'heavy intensity rain',\n",
       "     'icon': '10d'}],\n",
       "   'speed': 1.53,\n",
       "   'deg': 224,\n",
       "   'clouds': 95,\n",
       "   'rain': 16.3},\n",
       "  {'dt': 1588136400,\n",
       "   'sunrise': 1588114623,\n",
       "   'sunset': 1588158395,\n",
       "   'temp': {'day': 26.4,\n",
       "    'min': 26.11,\n",
       "    'max': 28.79,\n",
       "    'night': 26.25,\n",
       "    'eve': 26.38,\n",
       "    'morn': 26.11},\n",
       "   'feels_like': {'day': 30.96, 'night': 30.15, 'eve': 30.66, 'morn': 30.37},\n",
       "   'pressure': 1010,\n",
       "   'humidity': 83,\n",
       "   'weather': [{'id': 501,\n",
       "     'main': 'Rain',\n",
       "     'description': 'moderate rain',\n",
       "     'icon': '10d'}],\n",
       "   'speed': 1.2,\n",
       "   'deg': 173,\n",
       "   'clouds': 97,\n",
       "   'rain': 11.4},\n",
       "  {'dt': 1588222800,\n",
       "   'sunrise': 1588201014,\n",
       "   'sunset': 1588244790,\n",
       "   'temp': {'day': 29.68,\n",
       "    'min': 26.19,\n",
       "    'max': 29.68,\n",
       "    'night': 26.52,\n",
       "    'eve': 27.5,\n",
       "    'morn': 26.19},\n",
       "   'feels_like': {'day': 33.91, 'night': 30.84, 'eve': 32.15, 'morn': 30.09},\n",
       "   'pressure': 1010,\n",
       "   'humidity': 69,\n",
       "   'weather': [{'id': 501,\n",
       "     'main': 'Rain',\n",
       "     'description': 'moderate rain',\n",
       "     'icon': '10d'}],\n",
       "   'speed': 1.75,\n",
       "   'deg': 238,\n",
       "   'clouds': 96,\n",
       "   'rain': 7.25}]}"
      ]
     },
     "execution_count": 4,
     "metadata": {},
     "output_type": "execute_result"
    }
   ],
   "source": [
    "weather"
   ]
  },
  {
   "cell_type": "code",
   "execution_count": 5,
   "metadata": {},
   "outputs": [
    {
     "data": {
      "text/plain": [
       "dict_keys(['city', 'cod', 'message', 'cnt', 'list'])"
      ]
     },
     "execution_count": 5,
     "metadata": {},
     "output_type": "execute_result"
    }
   ],
   "source": [
    "weather.keys()"
   ]
  },
  {
   "cell_type": "code",
   "execution_count": 7,
   "metadata": {},
   "outputs": [
    {
     "data": {
      "text/plain": [
       "10"
      ]
     },
     "execution_count": 7,
     "metadata": {},
     "output_type": "execute_result"
    }
   ],
   "source": [
    "len(weather.get('list'))"
   ]
  },
  {
   "cell_type": "code",
   "execution_count": 8,
   "metadata": {},
   "outputs": [
    {
     "data": {
      "text/plain": [
       "{'dt': 1587445200,\n",
       " 'sunrise': 1587423517,\n",
       " 'sunset': 1587467255,\n",
       " 'temp': {'day': 31.3,\n",
       "  'min': 27.19,\n",
       "  'max': 33.53,\n",
       "  'night': 27.19,\n",
       "  'eve': 28.41,\n",
       "  'morn': 29.65},\n",
       " 'feels_like': {'day': 36.26, 'night': 31.32, 'eve': 32.5, 'morn': 35.76},\n",
       " 'pressure': 1008,\n",
       " 'humidity': 66,\n",
       " 'weather': [{'id': 501,\n",
       "   'main': 'Rain',\n",
       "   'description': 'moderate rain',\n",
       "   'icon': '10d'}],\n",
       " 'speed': 1.37,\n",
       " 'deg': 134,\n",
       " 'clouds': 35,\n",
       " 'rain': 6.01}"
      ]
     },
     "execution_count": 8,
     "metadata": {},
     "output_type": "execute_result"
    }
   ],
   "source": [
    "weather.get('list')[0]"
   ]
  },
  {
   "cell_type": "code",
   "execution_count": 9,
   "metadata": {},
   "outputs": [
    {
     "data": {
      "text/plain": [
       "{'day': 31.3,\n",
       " 'min': 27.19,\n",
       " 'max': 33.53,\n",
       " 'night': 27.19,\n",
       " 'eve': 28.41,\n",
       " 'morn': 29.65}"
      ]
     },
     "execution_count": 9,
     "metadata": {},
     "output_type": "execute_result"
    }
   ],
   "source": [
    "weather.get('list')[0].get('temp')"
   ]
  },
  {
   "cell_type": "code",
   "execution_count": 12,
   "metadata": {},
   "outputs": [
    {
     "data": {
      "text/plain": [
       "27.19"
      ]
     },
     "execution_count": 12,
     "metadata": {},
     "output_type": "execute_result"
    }
   ],
   "source": [
    "# Max temp\n",
    "weather.get('list')[0].get('temp').get('min')"
   ]
  },
  {
   "cell_type": "code",
   "execution_count": 13,
   "metadata": {},
   "outputs": [
    {
     "data": {
      "text/plain": [
       "33.53"
      ]
     },
     "execution_count": 13,
     "metadata": {},
     "output_type": "execute_result"
    }
   ],
   "source": [
    "# Min Temp\n",
    "weather.get('list')[0].get('temp').get('max')"
   ]
  },
  {
   "cell_type": "code",
   "execution_count": 17,
   "metadata": {},
   "outputs": [
    {
     "data": {
      "text/plain": [
       "[{'id': 501, 'main': 'Rain', 'description': 'moderate rain', 'icon': '10d'}]"
      ]
     },
     "execution_count": 17,
     "metadata": {},
     "output_type": "execute_result"
    }
   ],
   "source": [
    "# weather description\n",
    "weather.get('list')[0].get('weather')\n",
    "#type(weather.get('list')[0].get('weather'))"
   ]
  },
  {
   "cell_type": "code",
   "execution_count": 18,
   "metadata": {},
   "outputs": [
    {
     "data": {
      "text/plain": [
       "{'id': 501, 'main': 'Rain', 'description': 'moderate rain', 'icon': '10d'}"
      ]
     },
     "execution_count": 18,
     "metadata": {},
     "output_type": "execute_result"
    }
   ],
   "source": [
    "weather.get('list')[0].get('weather')[0]"
   ]
  },
  {
   "cell_type": "code",
   "execution_count": 19,
   "metadata": {},
   "outputs": [
    {
     "data": {
      "text/plain": [
       "'moderate rain'"
      ]
     },
     "execution_count": 19,
     "metadata": {},
     "output_type": "execute_result"
    }
   ],
   "source": [
    "weather.get('list')[0].get('weather')[0].get('description',\"Not Available\")"
   ]
  },
  {
   "cell_type": "code",
   "execution_count": 21,
   "metadata": {},
   "outputs": [
    {
     "name": "stdout",
     "output_type": "stream",
     "text": [
      "\n",
      "Min Temp : 27.19 \t Max Temp : 33.53 \t Description : moderate rain \n"
     ]
    }
   ],
   "source": [
    "print(\"\"\"\n",
    "Min Temp : %s \\t Max Temp : %s \\t Description : %s \"\"\"%(weather.get('list')[0].get('temp').get('min'),weather.get('list')[0].get('temp').get('max'),weather.get('list')[0].get('weather')[0].get('description',\"Not Available\")))"
   ]
  },
  {
   "cell_type": "code",
   "execution_count": null,
   "metadata": {},
   "outputs": [],
   "source": [
    "weather.get('list')[0].get('temp').get('min'),\n",
    "weather.get('list')[0].get('temp').get('max'),\n",
    "weather.get('list')[0].get('weather')[0].get('description',\"Not Available\")"
   ]
  },
  {
   "cell_type": "code",
   "execution_count": 22,
   "metadata": {},
   "outputs": [
    {
     "data": {
      "text/plain": [
       "10"
      ]
     },
     "execution_count": 22,
     "metadata": {},
     "output_type": "execute_result"
    }
   ],
   "source": [
    "len(weather.get('list'))"
   ]
  },
  {
   "cell_type": "code",
   "execution_count": 28,
   "metadata": {},
   "outputs": [
    {
     "data": {
      "text/plain": [
       "True"
      ]
     },
     "execution_count": 28,
     "metadata": {},
     "output_type": "execute_result"
    }
   ],
   "source": [
    "# for eachEntry in weather.get('list'):\n",
    "#     print(eachEntry)\n",
    "eachEntry==weather.get('list')[9]"
   ]
  },
  {
   "cell_type": "code",
   "execution_count": 31,
   "metadata": {},
   "outputs": [
    {
     "name": "stdout",
     "output_type": "stream",
     "text": [
      "\n",
      "    MinTemp : 27.19 \t MaxTemp : 33.53 \t Description : moderate rain \t\n",
      "\n",
      "    MinTemp : 27.15 \t MaxTemp : 32.93 \t Description : moderate rain \t\n",
      "\n",
      "    MinTemp : 26.9 \t MaxTemp : 31.11 \t Description : heavy intensity rain \t\n",
      "\n",
      "    MinTemp : 26.25 \t MaxTemp : 30.63 \t Description : heavy intensity rain \t\n",
      "\n",
      "    MinTemp : 26.2 \t MaxTemp : 29.48 \t Description : heavy intensity rain \t\n",
      "\n",
      "    MinTemp : 26.18 \t MaxTemp : 31.38 \t Description : light rain \t\n",
      "\n",
      "    MinTemp : 26.56 \t MaxTemp : 32.36 \t Description : moderate rain \t\n",
      "\n",
      "    MinTemp : 26.05 \t MaxTemp : 29.32 \t Description : heavy intensity rain \t\n",
      "\n",
      "    MinTemp : 26.11 \t MaxTemp : 28.79 \t Description : moderate rain \t\n",
      "\n",
      "    MinTemp : 26.19 \t MaxTemp : 29.68 \t Description : moderate rain \t\n"
     ]
    }
   ],
   "source": [
    "for eachEntry in weather.get('list'):\n",
    "    print(\"\"\"\n",
    "    MinTemp : %s \\t MaxTemp : %s \\t Description : %s \\t\"\"\"%(eachEntry.get('temp').get('min'),eachEntry.get('temp').get('max'),eachEntry.get('weather')[0].get('description',\"Not Available\")))"
   ]
  },
  {
   "cell_type": "code",
   "execution_count": null,
   "metadata": {},
   "outputs": [],
   "source": []
  }
 ],
 "metadata": {
  "kernelspec": {
   "display_name": "Python 3",
   "language": "python",
   "name": "python3"
  },
  "language_info": {
   "codemirror_mode": {
    "name": "ipython",
    "version": 3
   },
   "file_extension": ".py",
   "mimetype": "text/x-python",
   "name": "python",
   "nbconvert_exporter": "python",
   "pygments_lexer": "ipython3",
   "version": "3.7.6"
  }
 },
 "nbformat": 4,
 "nbformat_minor": 2
}
