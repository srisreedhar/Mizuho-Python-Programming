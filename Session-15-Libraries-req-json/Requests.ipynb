{
 "cells": [
  {
   "cell_type": "markdown",
   "metadata": {},
   "source": [
    "### BigDataSchool.in"
   ]
  },
  {
   "cell_type": "markdown",
   "metadata": {},
   "source": [
    "## SriSreedhar"
   ]
  },
  {
   "cell_type": "code",
   "execution_count": 2,
   "metadata": {},
   "outputs": [
    {
     "name": "stdout",
     "output_type": "stream",
     "text": [
      "Requirement already satisfied: requests in c:\\users\\user\\appdata\\local\\programs\\python\\python37\\lib\\site-packages (2.19.1)\n",
      "Requirement already satisfied: idna<2.8,>=2.5 in c:\\users\\user\\appdata\\local\\programs\\python\\python37\\lib\\site-packages (from requests) (2.7)\n",
      "Requirement already satisfied: certifi>=2017.4.17 in c:\\users\\user\\appdata\\local\\programs\\python\\python37\\lib\\site-packages (from requests) (2018.8.24)\n",
      "Requirement already satisfied: chardet<3.1.0,>=3.0.2 in c:\\users\\user\\appdata\\local\\programs\\python\\python37\\lib\\site-packages (from requests) (3.0.4)\n",
      "Requirement already satisfied: urllib3<1.24,>=1.21.1 in c:\\users\\user\\appdata\\local\\programs\\python\\python37\\lib\\site-packages (from requests) (1.23)\n"
     ]
    }
   ],
   "source": [
    "!pip install requests"
   ]
  },
  {
   "cell_type": "code",
   "execution_count": 3,
   "metadata": {},
   "outputs": [],
   "source": [
    "import requests"
   ]
  },
  {
   "cell_type": "code",
   "execution_count": null,
   "metadata": {},
   "outputs": [],
   "source": [
    "1) enter the web address\n",
    "-> define a variable"
   ]
  },
  {
   "cell_type": "code",
   "execution_count": 26,
   "metadata": {},
   "outputs": [],
   "source": [
    "url=\"http://api.openweathermap.org/data/2.5/forecast/daily?q=sydney&cnt=10&mode=json&units=metric&APPID=YOURAPIKEYHERE\""
   ]
  },
  {
   "cell_type": "code",
   "execution_count": null,
   "metadata": {},
   "outputs": [],
   "source": [
    " send request\n",
    "-> requests.get(URL/URLVariable)"
   ]
  },
  {
   "cell_type": "code",
   "execution_count": 5,
   "metadata": {},
   "outputs": [
    {
     "data": {
      "text/plain": [
       "<Response [200]>"
      ]
     },
     "execution_count": 5,
     "metadata": {},
     "output_type": "execute_result"
    }
   ],
   "source": [
    "requests.get(url)"
   ]
  },
  {
   "cell_type": "code",
   "execution_count": null,
   "metadata": {},
   "outputs": [],
   "source": [
    "2) catch the response"
   ]
  },
  {
   "cell_type": "code",
   "execution_count": 6,
   "metadata": {},
   "outputs": [],
   "source": [
    "respObj=requests.get(url)"
   ]
  },
  {
   "cell_type": "code",
   "execution_count": 8,
   "metadata": {},
   "outputs": [
    {
     "data": {
      "text/plain": [
       "<Response [200]>"
      ]
     },
     "execution_count": 8,
     "metadata": {},
     "output_type": "execute_result"
    }
   ],
   "source": [
    "respObj"
   ]
  },
  {
   "cell_type": "code",
   "execution_count": null,
   "metadata": {},
   "outputs": [],
   "source": [
    "3) perform/use response"
   ]
  },
  {
   "cell_type": "code",
   "execution_count": 10,
   "metadata": {},
   "outputs": [],
   "source": [
    "respData=respObj.text"
   ]
  },
  {
   "cell_type": "code",
   "execution_count": 11,
   "metadata": {},
   "outputs": [
    {
     "data": {
      "text/plain": [
       "str"
      ]
     },
     "execution_count": 11,
     "metadata": {},
     "output_type": "execute_result"
    }
   ],
   "source": [
    "type(respData)"
   ]
  },
  {
   "cell_type": "code",
   "execution_count": 12,
   "metadata": {},
   "outputs": [
    {
     "data": {
      "text/plain": [
       "'{\"city\":{\"id\":2147714,\"name\":\"Sydney\",\"coord\":{\"lon\":151.2073,\"lat\":-33.8679},\"country\":\"AU\",\"population\":1000000,\"timezone\":36000},\"cod\":\"200\",\"message\":0.3116451,\"cnt\":10,\"list\":[{\"dt\":1587517200,\"sunrise\":1587500567,\"sunset\":1587540253,\"temp\":{\"day\":23.46,\"min\":17.23,\"max\":24.77,\"night\":17.23,\"eve\":23.22,\"morn\":23.46},\"feels_like\":{\"day\":19.87,\"night\":16.01,\"eve\":21.76,\"morn\":19.87},\"pressure\":1018,\"humidity\":40,\"weather\":[{\"id\":800,\"main\":\"Clear\",\"description\":\"sky is clear\",\"icon\":\"01d\"}],\"speed\":4.84,\"deg\":236,\"clouds\":0},{\"dt\":1587603600,\"sunrise\":1587587012,\"sunset\":1587626586,\"temp\":{\"day\":19,\"min\":14.16,\"max\":22.55,\"night\":17.74,\"eve\":22.55,\"morn\":14.79},\"feels_like\":{\"day\":16.77,\"night\":16.71,\"eve\":19.03,\"morn\":12.54},\"pressure\":1021,\"humidity\":51,\"weather\":[{\"id\":801,\"main\":\"Clouds\",\"description\":\"few clouds\",\"icon\":\"02d\"}],\"speed\":2.74,\"deg\":316,\"clouds\":14},{\"dt\":1587690000,\"sunrise\":1587673458,\"sunset\":1587712919,\"temp\":{\"day\":21.83,\"min\":15.98,\"max\":26.01,\"night\":19.25,\"eve\":25.74,\"morn\":15.98},\"feels_like\":{\"day\":19.32,\"night\":17.47,\"eve\":24.42,\"morn\":13.49},\"pressure\":1018,\"humidity\":43,\"weather\":[{\"id\":800,\"main\":\"Clear\",\"description\":\"sky is clear\",\"icon\":\"01d\"}],\"speed\":3.16,\"deg\":298,\"clouds\":0},{\"dt\":1587776400,\"sunrise\":1587759904,\"sunset\":1587799254,\"temp\":{\"day\":20.38,\"min\":15.86,\"max\":23.89,\"night\":18.92,\"eve\":23.11,\"morn\":16.29},\"feels_like\":{\"day\":19.43,\"night\":18.2,\"eve\":20.91,\"morn\":14.82},\"pressure\":1021,\"humidity\":56,\"weather\":[{\"id\":800,\"main\":\"Clear\",\"description\":\"sky is clear\",\"icon\":\"01d\"}],\"speed\":1.95,\"deg\":310,\"clouds\":0},{\"dt\":1587862800,\"sunrise\":1587846350,\"sunset\":1587885589,\"temp\":{\"day\":22.34,\"min\":16.91,\"max\":25.86,\"night\":20.77,\"eve\":24.76,\"morn\":17.36},\"feels_like\":{\"day\":19.5,\"night\":19.18,\"eve\":22.04,\"morn\":15.9},\"pressure\":1018,\"humidity\":47,\"weather\":[{\"id\":802,\"main\":\"Clouds\",\"description\":\"scattered clouds\",\"icon\":\"03d\"}],\"speed\":4.31,\"deg\":318,\"clouds\":37},{\"dt\":1587949200,\"sunrise\":1587932796,\"sunset\":1587971925,\"temp\":{\"day\":20.72,\"min\":18.17,\"max\":21.52,\"night\":18.29,\"eve\":20.66,\"morn\":18.97},\"feels_like\":{\"day\":20.21,\"night\":18.57,\"eve\":19.27,\"morn\":17.15},\"pressure\":1021,\"humidity\":69,\"weather\":[{\"id\":500,\"main\":\"Rain\",\"description\":\"light rain\",\"icon\":\"10d\"}],\"speed\":2.95,\"deg\":181,\"clouds\":100,\"rain\":1.53},{\"dt\":1588035600,\"sunrise\":1588019242,\"sunset\":1588058262,\"temp\":{\"day\":20.6,\"min\":16.79,\"max\":23.33,\"night\":20.82,\"eve\":22.68,\"morn\":17.2},\"feels_like\":{\"day\":20.79,\"night\":19.58,\"eve\":20.79,\"morn\":17.9},\"pressure\":1020,\"humidity\":69,\"weather\":[{\"id\":500,\"main\":\"Rain\",\"description\":\"light rain\",\"icon\":\"10d\"}],\"speed\":1.88,\"deg\":336,\"clouds\":6,\"rain\":1.15},{\"dt\":1588122000,\"sunrise\":1588105688,\"sunset\":1588144601,\"temp\":{\"day\":21.05,\"min\":19.22,\"max\":23.39,\"night\":19.84,\"eve\":19.5,\"morn\":20.62},\"feels_like\":{\"day\":21.35,\"night\":15.85,\"eve\":16.71,\"morn\":19.29},\"pressure\":1013,\"humidity\":72,\"weather\":[{\"id\":501,\"main\":\"Rain\",\"description\":\"moderate rain\",\"icon\":\"10d\"}],\"speed\":2.3,\"deg\":5,\"clouds\":96,\"rain\":8.1},{\"dt\":1588208400,\"sunrise\":1588192135,\"sunset\":1588230940,\"temp\":{\"day\":16.03,\"min\":11.58,\"max\":16.12,\"night\":11.58,\"eve\":15.46,\"morn\":15.62},\"feels_like\":{\"day\":10.03,\"night\":6.1,\"eve\":8.68,\"morn\":11.28},\"pressure\":1014,\"humidity\":44,\"weather\":[{\"id\":500,\"main\":\"Rain\",\"description\":\"light rain\",\"icon\":\"10d\"}],\"speed\":6.63,\"deg\":275,\"clouds\":0,\"rain\":0.3},{\"dt\":1588294800,\"sunrise\":1588278581,\"sunset\":1588317281,\"temp\":{\"day\":13.56,\"min\":9.15,\"max\":15.24,\"night\":12.06,\"eve\":15.03,\"morn\":9.91},\"feels_like\":{\"day\":7.97,\"night\":8.07,\"eve\":9.7,\"morn\":4.53},\"pressure\":1027,\"humidity\":50,\"weather\":[{\"id\":801,\"main\":\"Clouds\",\"description\":\"few clouds\",\"icon\":\"02d\"}],\"speed\":5.92,\"deg\":209,\"clouds\":12}]}'"
      ]
     },
     "execution_count": 12,
     "metadata": {},
     "output_type": "execute_result"
    }
   ],
   "source": [
    "respData"
   ]
  },
  {
   "cell_type": "code",
   "execution_count": 13,
   "metadata": {},
   "outputs": [],
   "source": [
    "import json"
   ]
  },
  {
   "cell_type": "code",
   "execution_count": 14,
   "metadata": {},
   "outputs": [],
   "source": [
    "data=json.loads(respData)"
   ]
  },
  {
   "cell_type": "code",
   "execution_count": 16,
   "metadata": {},
   "outputs": [
    {
     "data": {
      "text/plain": [
       "dict"
      ]
     },
     "execution_count": 16,
     "metadata": {},
     "output_type": "execute_result"
    }
   ],
   "source": [
    "type(data)"
   ]
  },
  {
   "cell_type": "code",
   "execution_count": 17,
   "metadata": {},
   "outputs": [],
   "source": [
    "# Dracula\n",
    "# https://ia800302.us.archive.org/10/items/draculabr00stokuoft/draculabr00stokuoft_djvu.txt"
   ]
  },
  {
   "cell_type": "code",
   "execution_count": 18,
   "metadata": {},
   "outputs": [],
   "source": [
    "emailurl=\"https://dworken.keybase.pub/signedVerifications/emails.txt\""
   ]
  },
  {
   "cell_type": "code",
   "execution_count": 19,
   "metadata": {},
   "outputs": [],
   "source": [
    "r=requests.get(emailurl)"
   ]
  },
  {
   "cell_type": "code",
   "execution_count": 20,
   "metadata": {},
   "outputs": [],
   "source": [
    "sitedata=r.text"
   ]
  },
  {
   "cell_type": "code",
   "execution_count": 22,
   "metadata": {},
   "outputs": [
    {
     "data": {
      "text/plain": [
       "'-----BEGIN PGP SIGNED MESSAGE-----\\nHash: SHA512\\n\\ndavid@daviddworken.com\\nddworken@gmail.com\\nddworken@protonmail.ch\\ndworken@protonmail.ch\\n-----BEGIN PGP SIGNATURE-----\\nVersion: Keybase OpenPGP v2.0.51\\nComment: https://keybase.io/crypto\\n\\nwsFcBAABCgAGBQJWzkSGAAoJEBTTpYz3EBhza5UP/1N7ZZKeH8sJD/oA1erv/2AO\\nDDnuYrvXqePQmv4a2hKih5isnlax9rZcAGt/fuwwM4YJf7j19XvALkXUj8qB6NQW\\nXG952eMkiO6A7HuZ18WE84yLyKOzdu8g9VTf8mt6C/ESMpFM5VW5c8hByNkHjnNc\\nJtLC8gfyomr9Ih+szNo2TeUxr45tDXuw1iFiYK8MUm6sD+sn+6Hb7CXNgdEwc4aF\\nDHfOmJM7x6/CSgn5JWOpLC57AMRngPB0BsCRcbKphEbAWZQh2NCWbQKYoCkCcshv\\nfw5oFeKuIjXBC1+VbQss2AeuBcb50ueMNzmlspBK3lIjJI9t3hy630TXbBG8RoCg\\nvf5kHl4yT2LtmQAo7E++VRqmzm93ZkLkd1aZIOFVB8HRFbJv8T+ngPLV10cUMXzc\\n3jKIu7v/Ho1KRnLCqqANh5+BDtde4AyTbZqzvNG2c/2C5pG1vdwmjyrD8IlaIZIb\\npF3FyZ/oRjJHJJwTh5Qay7Eda7swMckr2Ngt4wy3q8s2I2lFDnKn8toKwr2f1Lcm\\n4eWZlB9zmifK2biTMpk7j3UlGnAP5XN2r8HcdtE7KlpfABfX/WmQLLkRgFcc8Moe\\nhRQhv+dOF9FZAl1xCH5TciX9szcmliz/JCcpZrY+pCyUkCve47xWFiWIokEsTEqO\\nKh6oBCejTjbSdwlxoGGD\\n=NeEp\\n-----END PGP SIGNATURE-----\\n\\n'"
      ]
     },
     "execution_count": 22,
     "metadata": {},
     "output_type": "execute_result"
    }
   ],
   "source": [
    "sitedata"
   ]
  },
  {
   "cell_type": "code",
   "execution_count": 23,
   "metadata": {},
   "outputs": [],
   "source": [
    "goog=\"https://www.google.de\""
   ]
  },
  {
   "cell_type": "code",
   "execution_count": 24,
   "metadata": {},
   "outputs": [],
   "source": [
    "g=requests.get(goog)"
   ]
  },
  {
   "cell_type": "code",
   "execution_count": 25,
   "metadata": {},
   "outputs": [
    {
     "data": {
      "text/plain": [
       "'<!doctype html><html itemscope=\"\" itemtype=\"http://schema.org/WebPage\" lang=\"en-IN\"><head><meta content=\"text/html; charset=UTF-8\" http-equiv=\"Content-Type\"><meta content=\"/logos/doodles/2020/earth-day-2020-6753651837108357.3-l.png\" itemprop=\"image\"><meta content=\"Earth Day 2020\" property=\"twitter:title\"><meta content=\"Happy Earth Day 2020! #GoogleDoodle\" property=\"twitter:description\"><meta content=\"Happy Earth Day 2020! #GoogleDoodle\" property=\"og:description\"><meta content=\"summary_large_image\" property=\"twitter:card\"><meta content=\"@GoogleDoodles\" property=\"twitter:site\"><meta content=\"https://www.google.com/logos/doodles/2020/earth-day-2020-6753651837108357.2-2xa.gif\" property=\"twitter:image\"><meta content=\"https://www.google.com/logos/doodles/2020/earth-day-2020-6753651837108357.2-2xa.gif\" property=\"og:image\"><meta content=\"892\" property=\"og:image:width\"><meta content=\"408\" property=\"og:image:height\"><meta content=\"https://www.google.com/logos/doodles/2020/earth-day-2020-6753651837108357.2-2xa.gif\" property=\"og:url\"><meta content=\"video.other\" property=\"og:type\"><title>Google</title><script nonce=\"cFiXFwmKc/BQeXSm+Y4Cmw==\">(function(){window.google={kEI:\\'uqWfXvfdNYO5rQH135-wCA\\',kEXPI:\\'31\\',kBL:\\'2amb\\'};google.sn=\\'webhp\\';google.kHL=\\'en-IN\\';})();(function(){google.lc=[];google.li=0;google.getEI=function(a){for(var c;a&&(!a.getAttribute||!(c=a.getAttribute(\"eid\")));)a=a.parentNode;return c||google.kEI};google.getLEI=function(a){for(var c=null;a&&(!a.getAttribute||!(c=a.getAttribute(\"leid\")));)a=a.parentNode;return c};google.ml=function(){return null};google.time=function(){return Date.now()};google.log=function(a,c,b,d,g){if(b=google.logUrl(a,c,b,d,g)){a=new Image;var e=google.lc,f=google.li;e[f]=a;a.onerror=a.onload=a.onabort=function(){delete e[f]};google.vel&&google.vel.lu&&google.vel.lu(b);a.src=b;google.li=f+1}};google.logUrl=function(a,c,b,d,g){var e=\"\",f=google.ls||\"\";b||-1!=c.search(\"&ei=\")||(e=\"&ei=\"+google.getEI(d),-1==c.search(\"&lei=\")&&(d=google.getLEI(d))&&(e+=\"&lei=\"+d));d=\"\";!b&&google.cshid&&-1==c.search(\"&cshid=\")&&\"slh\"!=a&&(d=\"&cshid=\"+google.cshid);b=b||\"/\"+(g||\"gen_204\")+\"?atyp=i&ct=\"+a+\"&cad=\"+c+e+f+\"&zx=\"+google.time()+d;/^http:/i.test(b)&&\"https:\"==window.location.protocol&&(google.ml(Error(\"a\"),!1,{src:b,glmm:1}),b=\"\");return b};}).call(this);(function(){google.y={};google.x=function(a,b){if(a)var c=a.id;else{do c=Math.random();while(google.y[c])}google.y[c]=[a,b];return!1};google.lm=[];google.plm=function(a){google.lm.push.apply(google.lm,a)};google.lq=[];google.load=function(a,b,c){google.lq.push([[a],b,c])};google.loadAll=function(a,b){google.lq.push([a,b])};}).call(this);google.f={};(function(){\\ndocument.documentElement.addEventListener(\"submit\",function(b){var a;if(a=b.target){var c=a.getAttribute(\"data-submitfalse\");a=\"1\"==c||\"q\"==c&&!a.elements.q.value?!0:!1}else a=!1;a&&(b.preventDefault(),b.stopPropagation())},!0);document.documentElement.addEventListener(\"click\",function(b){var a;a:{for(a=b.target;a&&a!=document.documentElement;a=a.parentElement)if(\"A\"==a.tagName){a=\"1\"==a.getAttribute(\"data-nohref\");break a}a=!1}a&&b.preventDefault()},!0);}).call(this);\\nvar a=window.location,b=a.href.indexOf(\"#\");if(0<=b){var c=a.href.substring(b+1);/(^|&)q=/.test(c)&&-1==c.indexOf(\"#\")&&a.replace(\"/search?\"+c.replace(/(^|&)fp=[^&]*/g,\"\")+\"&cad=h\")};</script><style>#gbar,#guser{font-size:13px;padding-top:1px !important;}#gbar{height:22px}#guser{padding-bottom:7px !important;text-align:right}.gbh,.gbd{border-top:1px solid #c9d7f1;font-size:1px}.gbh{height:0;position:absolute;top:24px;width:100%}@media all{.gb1{height:22px;margin-right:.5em;vertical-align:top}#gbar{float:left}}a.gb1,a.gb4{text-decoration:underline !important}a.gb1,a.gb4{color:#00c !important}.gbi .gb4{color:#dd8e27 !important}.gbf .gb4{color:#900 !important}\\n</style><style>body,td,a,p,.h{font-family:arial,sans-serif}body{margin:0;overflow-y:scroll}#gog{padding:3px 8px 0}td{line-height:.8em}.gac_m td{line-height:17px}form{margin-bottom:20px}.h{color:#36c}.q{color:#00c}.ts td{padding:0}.ts{border-collapse:collapse}em{font-weight:bold;font-style:normal}.lst{height:25px;width:496px}.gsfi,.lst{font:18px arial,sans-serif}.gsfs{font:17px arial,sans-serif}.ds{display:inline-box;display:inline-block;margin:3px 0 4px;margin-left:4px}input{font-family:inherit}body{background:#fff;color:#000}a{color:#11c;text-decoration:none}a:hover,a:active{text-decoration:underline}.fl a{color:#36c}a:visited{color:#551a8b}.sblc{padding-top:5px}.sblc a{display:block;margin:2px 0;margin-left:13px;font-size:11px}.lsbb{background:#eee;border:solid 1px;border-color:#ccc #999 #999 #ccc;height:30px}.lsbb{display:block}.ftl,#fll a{display:inline-block;margin:0 12px}.lsb{background:url(/images/nav_logo229.png) 0 -261px repeat-x;border:none;color:#000;cursor:pointer;height:30px;margin:0;outline:0;font:15px arial,sans-serif;vertical-align:top}.lsb:active{background:#ccc}.lst:focus{outline:none}</style><script nonce=\"cFiXFwmKc/BQeXSm+Y4Cmw==\"></script></head><body bgcolor=\"#fff\"><script nonce=\"cFiXFwmKc/BQeXSm+Y4Cmw==\">(function(){var src=\\'/images/nav_logo229.png\\';var iesg=false;document.body.onload = function(){window.n && window.n();if (document.images){new Image().src=src;}\\nif (!iesg){document.f&&document.f.q.focus();document.gbqf&&document.gbqf.q.focus();}\\n}\\n})();</script><div id=\"mngb\"> <div id=gbar><nobr><b class=gb1>Search</b> <a class=gb1 href=\"https://www.google.co.in/imghp?hl=en&tab=wi\">Images</a> <a class=gb1 href=\"https://maps.google.co.in/maps?hl=en&tab=wl\">Maps</a> <a class=gb1 href=\"https://play.google.com/?hl=en&tab=w8\">Play</a> <a class=gb1 href=\"https://www.youtube.com/?gl=IN&tab=w1\">YouTube</a> <a class=gb1 href=\"https://news.google.co.in/nwshp?hl=en&tab=wn\">News</a> <a class=gb1 href=\"https://mail.google.com/mail/?tab=wm\">Gmail</a> <a class=gb1 href=\"https://drive.google.com/?tab=wo\">Drive</a> <a class=gb1 style=\"text-decoration:none\" href=\"https://www.google.co.in/intl/en/about/products?tab=wh\"><u>More</u> &raquo;</a></nobr></div><div id=guser width=100%><nobr><span id=gbn class=gbi></span><span id=gbf class=gbf></span><span id=gbe></span><a href=\"http://www.google.co.in/history/optout?hl=en\" class=gb4>Web History</a> | <a  href=\"/preferences?hl=en\" class=gb4>Settings</a> | <a target=_top id=gb_70 href=\"https://accounts.google.com/ServiceLogin?hl=en&passive=true&continue=https://www.google.de/\" class=gb4>Sign in</a></nobr></div><div class=gbh style=left:0></div><div class=gbh style=right:0></div> </div><center><br clear=\"all\" id=\"lgpd\"><div id=\"lga\"><a href=\"/search?ie=UTF-8&amp;q=Earth+Day&amp;oi=ddle&amp;ct=144865383&amp;hl=en&amp;sa=X&amp;ved=0ahUKEwj3otu0-ProAhWDXCsKHfXvB4YQPQgD\"><img alt=\"Earth Day 2020\" border=\"0\" height=\"137\" src=\"/logos/doodles/2020/earth-day-2020-6753651837108357.3-l.png\" title=\"Earth Day 2020\" width=\"300\" id=\"hplogo\"><br></a><br></div><form action=\"/search\" name=\"f\"><table cellpadding=\"0\" cellspacing=\"0\"><tr valign=\"top\"><td width=\"25%\">&nbsp;</td><td align=\"center\" nowrap=\"\"><input name=\"ie\" value=\"ISO-8859-1\" type=\"hidden\"><input value=\"en-IN\" name=\"hl\" type=\"hidden\"><input name=\"source\" type=\"hidden\" value=\"hp\"><input name=\"biw\" type=\"hidden\"><input name=\"bih\" type=\"hidden\"><div class=\"ds\" style=\"height:32px;margin:4px 0\"><input class=\"lst\" style=\"margin:0;padding:5px 8px 0 6px;vertical-align:top;color:#000\" autocomplete=\"off\" value=\"\" title=\"Google Search\" maxlength=\"2048\" name=\"q\" size=\"57\"></div><br style=\"line-height:0\"><span class=\"ds\"><span class=\"lsbb\"><input class=\"lsb\" value=\"Google Search\" name=\"btnG\" type=\"submit\"></span></span><span class=\"ds\"><span class=\"lsbb\"><input class=\"lsb\" id=\"tsuid1\" value=\"I\\'m Feeling Lucky\" name=\"btnI\" type=\"submit\"><script nonce=\"cFiXFwmKc/BQeXSm+Y4Cmw==\">(function(){var id=\\'tsuid1\\';document.getElementById(id).onclick = function(){if (this.form.q.value){this.checked = 1;if (this.form.iflsig)this.form.iflsig.disabled = false;}\\nelse top.location=\\'/doodles/\\';};})();</script><input value=\"AINFCbYAAAAAXp-zyj8Qfpcec930uOQu15Z2uSf53yDR\" name=\"iflsig\" type=\"hidden\"></span></span></td><td class=\"fl sblc\" align=\"left\" nowrap=\"\" width=\"25%\"><a href=\"/advanced_search?hl=en-IN&amp;authuser=0\">Advanced search</a></td></tr></table><input id=\"gbv\" name=\"gbv\" type=\"hidden\" value=\"1\"><script nonce=\"cFiXFwmKc/BQeXSm+Y4Cmw==\">(function(){var a,b=\"1\";if(document&&document.getElementById)if(\"undefined\"!=typeof XMLHttpRequest)b=\"2\";else if(\"undefined\"!=typeof ActiveXObject){var c,d,e=[\"MSXML2.XMLHTTP.6.0\",\"MSXML2.XMLHTTP.3.0\",\"MSXML2.XMLHTTP\",\"Microsoft.XMLHTTP\"];for(c=0;d=e[c++];)try{new ActiveXObject(d),b=\"2\"}catch(h){}}a=b;if(\"2\"==a&&-1==location.search.indexOf(\"&gbv=2\")){var f=google.gbvu,g=document.getElementById(\"gbv\");g&&(g.value=a);f&&window.setTimeout(function(){location.href=f},0)};}).call(this);</script></form><div id=\"gac_scont\"></div><div style=\"font-size:83%;min-height:3.5em\"><br><div id=\"gws-output-pages-elements-homepage_additional_languages__als\"><style>#gws-output-pages-elements-homepage_additional_languages__als{font-size:small;margin-bottom:24px}#SIvCob{display:inline-block;line-height:28px;}#SIvCob a{padding:0 3px;}.H6sW5{display:inline-block;margin:0 2px;white-space:nowrap}.z4hgWe{display:inline-block;margin:0 2px}</style><div id=\"SIvCob\">Google offered in:  <a href=\"https://www.google.de/setprefs?sig=0_czzkLfnZey9nH5K_eA67_U0Rung%3D&amp;hl=de&amp;source=homepage&amp;sa=X&amp;ved=0ahUKEwj3otu0-ProAhWDXCsKHfXvB4YQ2ZgBCAU\">Deutsch</a>    <a href=\"https://www.google.de/setprefs?sig=0_czzkLfnZey9nH5K_eA67_U0Rung%3D&amp;hl=hi&amp;source=homepage&amp;sa=X&amp;ved=0ahUKEwj3otu0-ProAhWDXCsKHfXvB4YQ2ZgBCAY\">&#2361;&#2367;&#2344;&#2381;&#2342;&#2368;</a>    <a href=\"https://www.google.de/setprefs?sig=0_czzkLfnZey9nH5K_eA67_U0Rung%3D&amp;hl=bn&amp;source=homepage&amp;sa=X&amp;ved=0ahUKEwj3otu0-ProAhWDXCsKHfXvB4YQ2ZgBCAc\">&#2476;&#2494;&#2434;&#2482;&#2494;</a>    <a href=\"https://www.google.de/setprefs?sig=0_czzkLfnZey9nH5K_eA67_U0Rung%3D&amp;hl=te&amp;source=homepage&amp;sa=X&amp;ved=0ahUKEwj3otu0-ProAhWDXCsKHfXvB4YQ2ZgBCAg\">&#3108;&#3142;&#3122;&#3137;&#3095;&#3137;</a>    <a href=\"https://www.google.de/setprefs?sig=0_czzkLfnZey9nH5K_eA67_U0Rung%3D&amp;hl=mr&amp;source=homepage&amp;sa=X&amp;ved=0ahUKEwj3otu0-ProAhWDXCsKHfXvB4YQ2ZgBCAk\">&#2350;&#2352;&#2366;&#2336;&#2368;</a>    <a href=\"https://www.google.de/setprefs?sig=0_czzkLfnZey9nH5K_eA67_U0Rung%3D&amp;hl=ta&amp;source=homepage&amp;sa=X&amp;ved=0ahUKEwj3otu0-ProAhWDXCsKHfXvB4YQ2ZgBCAo\">&#2980;&#2990;&#3007;&#2996;&#3021;</a>    <a href=\"https://www.google.de/setprefs?sig=0_czzkLfnZey9nH5K_eA67_U0Rung%3D&amp;hl=gu&amp;source=homepage&amp;sa=X&amp;ved=0ahUKEwj3otu0-ProAhWDXCsKHfXvB4YQ2ZgBCAs\">&#2711;&#2753;&#2716;&#2736;&#2750;&#2724;&#2752;</a>    <a href=\"https://www.google.de/setprefs?sig=0_czzkLfnZey9nH5K_eA67_U0Rung%3D&amp;hl=kn&amp;source=homepage&amp;sa=X&amp;ved=0ahUKEwj3otu0-ProAhWDXCsKHfXvB4YQ2ZgBCAw\">&#3221;&#3240;&#3277;&#3240;&#3233;</a>    <a href=\"https://www.google.de/setprefs?sig=0_czzkLfnZey9nH5K_eA67_U0Rung%3D&amp;hl=ml&amp;source=homepage&amp;sa=X&amp;ved=0ahUKEwj3otu0-ProAhWDXCsKHfXvB4YQ2ZgBCA0\">&#3374;&#3378;&#3375;&#3390;&#3379;&#3330;</a>    <a href=\"https://www.google.de/setprefs?sig=0_czzkLfnZey9nH5K_eA67_U0Rung%3D&amp;hl=pa&amp;source=homepage&amp;sa=X&amp;ved=0ahUKEwj3otu0-ProAhWDXCsKHfXvB4YQ2ZgBCA4\">&#2602;&#2672;&#2588;&#2622;&#2604;&#2624;</a>  </div></div></div><span id=\"footer\"><div style=\"font-size:10pt\"><div style=\"margin:19px auto;text-align:center\" id=\"fll\"><a href=\"/intl/en/ads/\">Advertising\\xa0Programs</a><a href=\"http://www.google.co.in/services/\">Business Solutions</a><a href=\"/intl/en/about.html\">About Google</a><a href=\"https://www.google.de/setprefdomain?prefdom=US&amp;sig=K_8l65D0cuyuO1pCnwSJKqUnNh2Pk%3D\" id=\"fehl\">Google.com</a></div></div><p style=\"font-size:8pt;color:#767676\">&copy; 2020 - <a href=\"/intl/en/policies/privacy/\">Privacy</a> - <a href=\"/intl/en/policies/terms/\">Terms</a></p></span></center><script nonce=\"cFiXFwmKc/BQeXSm+Y4Cmw==\">(function(){window.google.cdo={height:0,width:0};(function(){var a=window.innerWidth,b=window.innerHeight;if(!a||!b){var c=window.document,d=\"CSS1Compat\"==c.compatMode?c.documentElement:c.body;a=d.clientWidth;b=d.clientHeight}a&&b&&(a!=google.cdo.width||b!=google.cdo.height)&&google.log(\"\",\"\",\"/client_204?&atyp=i&biw=\"+a+\"&bih=\"+b+\"&ei=\"+google.kEI);}).call(this);})();(function(){google.kEXPI=\\'0,18168,183955,3,4,1151617,5662,731,223,3657,1448,206,3204,10,1051,175,364,1289,146,4,60,576,241,383,246,5,959,51,9,110,225,196,376,196,45,337,39,227,278,59,40,1125973,1197785,364,329118,1294,12383,4855,32691,15248,867,6056,22628,364,529,8295,8384,4858,1362,9291,3023,3894,850,3122,7911,1808,4020,978,4784,1,1457,1689,5297,2054,920,873,1217,2975,2785,3229,1,415,1141,7512,2653,2904,317,690,3828,2777,520,399,2277,8,2796,1593,1165,114,390,1823,529,149,1103,840,517,1137,278,55,4,48,158,4100,109,203,1132,4,3,2063,606,1839,184,1777,143,377,1947,747,1482,93,328,1284,16,2927,2246,474,1339,29,719,1039,3227,773,2072,7,4805,1263,8078,2663,641,1408,1042,2458,1226,1462,3934,1275,108,1710,1144,553,908,2,941,532,2082,2397,4358,1061,225,996,1670,480,606,1349,3,12,534,30,970,865,7,366,1638,1907,440,267,148,189,354,235,1081,1642,503,1,240,1411,203,131,158,1,70,796,365,64,798,2598,498,893,1093,651,4,1336,192,17,351,267,4,20,282,70,4,280,284,725,154,872,188,22,271,126,472,276,395,2,8,10,2,30,63,129,1157,2,1,466,245,200,1650,331,174,667,212,15,117,230,343,125,4,826,256,126,131,205,702,724,88,165,4,39,833,679,1627,293,1351,5823463,3277,32,1802585,4194155,2801867,549,333,444,1,2,80,1,900,896,1,8,1,2,2551,1,748,141,59,736,563,1,4265,1,1,1,1,137,1,1193,1259,142,3,5,91,63,4,109,1,46,7,4,2,10,6,1,1,24,3,5,2,2,1,1,1,3,2,2,3,6,1,2,6,3,23962583\\';})();(function(){var u=\\'/xjs/_/js/k\\\\x3dxjs.hp.en.8jTnuCMMiFI.O/m\\\\x3dsb_he,d/am\\\\x3dAAMCbAQ/d\\\\x3d1/rs\\\\x3dACT90oFSe3F4u6cscTHTUw58MPqxYvNkww\\';\\nsetTimeout(function(){var b=document;var a=\"SCRIPT\";\"application/xhtml+xml\"===b.contentType&&(a=a.toLowerCase());a=b.createElement(a);a.src=u;google.timers&&google.timers.load&&google.tick&&google.tick(\"load\",\"xjsls\");document.body.appendChild(a)},0);})();(function(){window.google.xjsu=\\'/xjs/_/js/k\\\\x3dxjs.hp.en.8jTnuCMMiFI.O/m\\\\x3dsb_he,d/am\\\\x3dAAMCbAQ/d\\\\x3d1/rs\\\\x3dACT90oFSe3F4u6cscTHTUw58MPqxYvNkww\\';})();function _DumpException(e){throw e;}\\nfunction _F_installCss(c){}\\n(function(){google.jl={em:[],emw:false,lls:\\'default\\',pdt:0,snet:true,uwp:true};})();(function(){var pmc=\\'{\\\\x22d\\\\x22:{},\\\\x22sb_he\\\\x22:{\\\\x22agen\\\\x22:true,\\\\x22cgen\\\\x22:true,\\\\x22client\\\\x22:\\\\x22heirloom-hp\\\\x22,\\\\x22dh\\\\x22:true,\\\\x22dhqt\\\\x22:true,\\\\x22ds\\\\x22:\\\\x22\\\\x22,\\\\x22ffql\\\\x22:\\\\x22en\\\\x22,\\\\x22fl\\\\x22:true,\\\\x22host\\\\x22:\\\\x22google.de\\\\x22,\\\\x22isbh\\\\x22:28,\\\\x22jsonp\\\\x22:true,\\\\x22msgs\\\\x22:{\\\\x22cibl\\\\x22:\\\\x22Clear Search\\\\x22,\\\\x22dym\\\\x22:\\\\x22Did you mean:\\\\x22,\\\\x22lcky\\\\x22:\\\\x22I\\\\\\\\u0026#39;m Feeling Lucky\\\\x22,\\\\x22lml\\\\x22:\\\\x22Learn more\\\\x22,\\\\x22oskt\\\\x22:\\\\x22Input tools\\\\x22,\\\\x22psrc\\\\x22:\\\\x22This search was removed from your \\\\\\\\u003Ca href\\\\x3d\\\\\\\\\\\\x22/history\\\\\\\\\\\\x22\\\\\\\\u003EWeb History\\\\\\\\u003C/a\\\\\\\\u003E\\\\x22,\\\\x22psrl\\\\x22:\\\\x22Remove\\\\x22,\\\\x22sbit\\\\x22:\\\\x22Search by image\\\\x22,\\\\x22srch\\\\x22:\\\\x22Google Search\\\\x22},\\\\x22ovr\\\\x22:{},\\\\x22pq\\\\x22:\\\\x22\\\\x22,\\\\x22refpd\\\\x22:true,\\\\x22rfs\\\\x22:[],\\\\x22sbpl\\\\x22:16,\\\\x22sbpr\\\\x22:16,\\\\x22scd\\\\x22:10,\\\\x22stok\\\\x22:\\\\x22ZPsf_J0rTsU2YwdjFCoZQuAT7gc\\\\x22,\\\\x22uhde\\\\x22:false}}\\';google.pmc=JSON.parse(pmc);})();</script>        </body></html>'"
      ]
     },
     "execution_count": 25,
     "metadata": {},
     "output_type": "execute_result"
    }
   ],
   "source": [
    "g.text"
   ]
  },
  {
   "cell_type": "code",
   "execution_count": null,
   "metadata": {},
   "outputs": [],
   "source": [
    "# Exercise\n",
    "https://raw.githubusercontent.com/genomicsclass/dagdata/master/inst/extdata/msleep_ggplot2.csv"
   ]
  },
  {
   "cell_type": "code",
   "execution_count": null,
   "metadata": {},
   "outputs": [],
   "source": []
  }
 ],
 "metadata": {
  "kernelspec": {
   "display_name": "Python 3",
   "language": "python",
   "name": "python3"
  },
  "language_info": {
   "codemirror_mode": {
    "name": "ipython",
    "version": 3
   },
   "file_extension": ".py",
   "mimetype": "text/x-python",
   "name": "python",
   "nbconvert_exporter": "python",
   "pygments_lexer": "ipython3",
   "version": "3.7.6"
  }
 },
 "nbformat": 4,
 "nbformat_minor": 2
}
