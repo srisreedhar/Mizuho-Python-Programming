{
 "cells": [
  {
   "cell_type": "code",
   "execution_count": null,
   "metadata": {},
   "outputs": [],
   "source": []
  },
  {
   "cell_type": "code",
   "execution_count": 1,
   "metadata": {},
   "outputs": [],
   "source": [
    "import requests"
   ]
  },
  {
   "cell_type": "code",
   "execution_count": 2,
   "metadata": {},
   "outputs": [],
   "source": [
    "url=\"https://dworken.keybase.pub/signedVerifications/emails.txt\""
   ]
  },
  {
   "cell_type": "code",
   "execution_count": 3,
   "metadata": {},
   "outputs": [],
   "source": [
    "resp=requests.get(url)"
   ]
  },
  {
   "cell_type": "code",
   "execution_count": 4,
   "metadata": {},
   "outputs": [],
   "source": [
    "data=resp.text"
   ]
  },
  {
   "cell_type": "code",
   "execution_count": 5,
   "metadata": {},
   "outputs": [
    {
     "data": {
      "text/plain": [
       "'-----BEGIN PGP SIGNED MESSAGE-----\\nHash: SHA512\\n\\ndavid@daviddworken.com\\nddworken@gmail.com\\nddworken@protonmail.ch\\ndworken@protonmail.ch\\n-----BEGIN PGP SIGNATURE-----\\nVersion: Keybase OpenPGP v2.0.51\\nComment: https://keybase.io/crypto\\n\\nwsFcBAABCgAGBQJWzkSGAAoJEBTTpYz3EBhza5UP/1N7ZZKeH8sJD/oA1erv/2AO\\nDDnuYrvXqePQmv4a2hKih5isnlax9rZcAGt/fuwwM4YJf7j19XvALkXUj8qB6NQW\\nXG952eMkiO6A7HuZ18WE84yLyKOzdu8g9VTf8mt6C/ESMpFM5VW5c8hByNkHjnNc\\nJtLC8gfyomr9Ih+szNo2TeUxr45tDXuw1iFiYK8MUm6sD+sn+6Hb7CXNgdEwc4aF\\nDHfOmJM7x6/CSgn5JWOpLC57AMRngPB0BsCRcbKphEbAWZQh2NCWbQKYoCkCcshv\\nfw5oFeKuIjXBC1+VbQss2AeuBcb50ueMNzmlspBK3lIjJI9t3hy630TXbBG8RoCg\\nvf5kHl4yT2LtmQAo7E++VRqmzm93ZkLkd1aZIOFVB8HRFbJv8T+ngPLV10cUMXzc\\n3jKIu7v/Ho1KRnLCqqANh5+BDtde4AyTbZqzvNG2c/2C5pG1vdwmjyrD8IlaIZIb\\npF3FyZ/oRjJHJJwTh5Qay7Eda7swMckr2Ngt4wy3q8s2I2lFDnKn8toKwr2f1Lcm\\n4eWZlB9zmifK2biTMpk7j3UlGnAP5XN2r8HcdtE7KlpfABfX/WmQLLkRgFcc8Moe\\nhRQhv+dOF9FZAl1xCH5TciX9szcmliz/JCcpZrY+pCyUkCve47xWFiWIokEsTEqO\\nKh6oBCejTjbSdwlxoGGD\\n=NeEp\\n-----END PGP SIGNATURE-----\\n\\n'"
      ]
     },
     "execution_count": 5,
     "metadata": {},
     "output_type": "execute_result"
    }
   ],
   "source": [
    "data"
   ]
  },
  {
   "cell_type": "code",
   "execution_count": 6,
   "metadata": {},
   "outputs": [],
   "source": [
    "# d= requests.get(url).text"
   ]
  },
  {
   "cell_type": "code",
   "execution_count": 9,
   "metadata": {},
   "outputs": [
    {
     "data": {
      "text/plain": [
       "'david@daviddworken.com\\nddworken@gmail.com\\nddworken@protonmail.ch\\ndworken@protonmail.ch\\n-----BEGIN PGP SIGNATURE-----\\nVersion: Keybase OpenPGP v2.0.51\\nComment: https://keybase.io/crypto'"
      ]
     },
     "execution_count": 9,
     "metadata": {},
     "output_type": "execute_result"
    }
   ],
   "source": [
    "data.split(\"\\n\\n\")[1]"
   ]
  },
  {
   "cell_type": "code",
   "execution_count": 10,
   "metadata": {},
   "outputs": [
    {
     "data": {
      "text/plain": [
       "['david@daviddworken.com',\n",
       " 'ddworken@gmail.com',\n",
       " 'ddworken@protonmail.ch',\n",
       " 'dworken@protonmail.ch',\n",
       " '-----BEGIN PGP SIGNATURE-----',\n",
       " 'Version: Keybase OpenPGP v2.0.51',\n",
       " 'Comment: https://keybase.io/crypto']"
      ]
     },
     "execution_count": 10,
     "metadata": {},
     "output_type": "execute_result"
    }
   ],
   "source": [
    "data.split(\"\\n\\n\")[1].split('\\n')"
   ]
  },
  {
   "cell_type": "code",
   "execution_count": 11,
   "metadata": {},
   "outputs": [],
   "source": [
    "# 'david@daviddworken.com'\n",
    "# @ - ."
   ]
  },
  {
   "cell_type": "code",
   "execution_count": 12,
   "metadata": {},
   "outputs": [],
   "source": [
    "# membership checking operator\n",
    "# in\n",
    "# something in collection -> True/False"
   ]
  },
  {
   "cell_type": "code",
   "execution_count": 13,
   "metadata": {},
   "outputs": [
    {
     "data": {
      "text/plain": [
       "True"
      ]
     },
     "execution_count": 13,
     "metadata": {},
     "output_type": "execute_result"
    }
   ],
   "source": [
    "'@' in 'david@daviddworken.com'"
   ]
  },
  {
   "cell_type": "code",
   "execution_count": 14,
   "metadata": {},
   "outputs": [
    {
     "data": {
      "text/plain": [
       "True"
      ]
     },
     "execution_count": 14,
     "metadata": {},
     "output_type": "execute_result"
    }
   ],
   "source": [
    "'.' in 'david@daviddworken.com'"
   ]
  },
  {
   "cell_type": "code",
   "execution_count": 15,
   "metadata": {},
   "outputs": [
    {
     "data": {
      "text/plain": [
       "False"
      ]
     },
     "execution_count": 15,
     "metadata": {},
     "output_type": "execute_result"
    }
   ],
   "source": [
    "'.' in 'david@daviddworken'"
   ]
  },
  {
   "cell_type": "code",
   "execution_count": 16,
   "metadata": {},
   "outputs": [
    {
     "data": {
      "text/plain": [
       "True"
      ]
     },
     "execution_count": 16,
     "metadata": {},
     "output_type": "execute_result"
    }
   ],
   "source": [
    "'@' in 'david@daviddworken.com' and '.' in 'david@daviddworken.com'"
   ]
  },
  {
   "cell_type": "code",
   "execution_count": 17,
   "metadata": {},
   "outputs": [
    {
     "data": {
      "text/plain": [
       "False"
      ]
     },
     "execution_count": 17,
     "metadata": {},
     "output_type": "execute_result"
    }
   ],
   "source": [
    "'@' in 'david@daviddworken.com' and '.' in 'david@daviddworken'"
   ]
  },
  {
   "cell_type": "code",
   "execution_count": 18,
   "metadata": {},
   "outputs": [
    {
     "name": "stdout",
     "output_type": "stream",
     "text": [
      "there's @ in the string\n"
     ]
    }
   ],
   "source": [
    "if '@' in 'david@daviddworken.com':\n",
    "    print(\"there's @ in the string\")"
   ]
  },
  {
   "cell_type": "code",
   "execution_count": 19,
   "metadata": {},
   "outputs": [
    {
     "name": "stdout",
     "output_type": "stream",
     "text": [
      " Its an Email\n"
     ]
    }
   ],
   "source": [
    "if '@' in 'david@daviddworken.com' and '.' in 'david@daviddworken.com':\n",
    "    print( \" Its an Email\")"
   ]
  },
  {
   "cell_type": "code",
   "execution_count": 20,
   "metadata": {},
   "outputs": [
    {
     "name": "stdout",
     "output_type": "stream",
     "text": [
      "Its not an email\n"
     ]
    }
   ],
   "source": [
    "if '@' in 'david@daviddworken.com' and '.' in 'david@daviddworkencom':\n",
    "    print( \" Its an Email\")\n",
    "else:\n",
    "    print(\"Its not an email\")"
   ]
  },
  {
   "cell_type": "code",
   "execution_count": 21,
   "metadata": {},
   "outputs": [
    {
     "name": "stdout",
     "output_type": "stream",
     "text": [
      "david@daviddworken.com\n",
      "ddworken@gmail.com\n",
      "ddworken@protonmail.ch\n",
      "dworken@protonmail.ch\n",
      "-----BEGIN PGP SIGNATURE-----\n",
      "Version: Keybase OpenPGP v2.0.51\n",
      "Comment: https://keybase.io/crypto\n"
     ]
    }
   ],
   "source": [
    "for each in data.split(\"\\n\\n\")[1].split('\\n'):\n",
    "    print(each)"
   ]
  },
  {
   "cell_type": "code",
   "execution_count": 22,
   "metadata": {},
   "outputs": [],
   "source": [
    "emails=[]"
   ]
  },
  {
   "cell_type": "code",
   "execution_count": 23,
   "metadata": {},
   "outputs": [],
   "source": [
    "for each in data.split(\"\\n\\n\")[1].split('\\n'):\n",
    "    if '@' in each and '.' in each :\n",
    "        emails.append(each)"
   ]
  },
  {
   "cell_type": "code",
   "execution_count": 24,
   "metadata": {},
   "outputs": [
    {
     "data": {
      "text/plain": [
       "['david@daviddworken.com',\n",
       " 'ddworken@gmail.com',\n",
       " 'ddworken@protonmail.ch',\n",
       " 'dworken@protonmail.ch']"
      ]
     },
     "execution_count": 24,
     "metadata": {},
     "output_type": "execute_result"
    }
   ],
   "source": [
    "emails"
   ]
  },
  {
   "cell_type": "code",
   "execution_count": null,
   "metadata": {},
   "outputs": [],
   "source": []
  }
 ],
 "metadata": {
  "kernelspec": {
   "display_name": "Python 3",
   "language": "python",
   "name": "python3"
  },
  "language_info": {
   "codemirror_mode": {
    "name": "ipython",
    "version": 3
   },
   "file_extension": ".py",
   "mimetype": "text/x-python",
   "name": "python",
   "nbconvert_exporter": "python",
   "pygments_lexer": "ipython3",
   "version": "3.7.6"
  }
 },
 "nbformat": 4,
 "nbformat_minor": 2
}
